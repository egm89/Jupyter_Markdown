{
 "cells": [
  {
   "cell_type": "markdown",
   "id": "4fa75486",
   "metadata": {},
   "source": [
    "# Introducció amb Python i Markdown\n",
    "\n",
    "### Hello IT Academy!\n",
    "\n",
    "_Presentació_\n"
   ]
  },
  {
   "cell_type": "code",
   "execution_count": 5,
   "id": "8d7164c9",
   "metadata": {},
   "outputs": [
    {
     "name": "stdout",
     "output_type": "stream",
     "text": [
      "Hello IT Academy\n",
      "My name is Eva and I am 32.\n"
     ]
    }
   ],
   "source": [
    "print(\"Hello IT Academy\")\n",
    "name = \"Eva\"\n",
    "age = 32\n",
    "\n",
    "print(\"My name is \"+ name + \" and I am \"+ str(age) + \".\" )\n",
    "\n"
   ]
  },
  {
   "cell_type": "markdown",
   "id": "01bd5faf",
   "metadata": {},
   "source": [
    "### Càlculs senzills amb llistes\n",
    "\n",
    "_Tenim un inventari de mobles_\n"
   ]
  },
  {
   "cell_type": "code",
   "execution_count": 4,
   "id": "a86aac33",
   "metadata": {},
   "outputs": [
    {
     "name": "stdout",
     "output_type": "stream",
     "text": [
      "18\n",
      "llit individual\n",
      "coixí\n",
      "['capçal', 'llit de matrimoni', 'llit de matrimoni', 'llit individual']\n",
      "['llit individual', 'llit individual', 'capçal']\n",
      "5\n",
      "llit de matrimoni\n",
      "['llit individual', 'llit individual', 'capçal', 'llit de matrimoni', 'llit individual', 'taula', 'taula', 'taula de nit', 'taula de nit', 'llit de matrimoni', 'mirall', 'llit de matrimoni', 'llit individual', 'llit individual', 'llençols', 'llençols', 'coixí', 'coixí']\n",
      "['capçal', 'coixí', 'coixí', 'llençols', 'llençols', 'llit de matrimoni', 'llit de matrimoni', 'llit de matrimoni', 'llit individual', 'llit individual', 'llit individual', 'llit individual', 'llit individual', 'mirall', 'taula', 'taula', 'taula de nit', 'taula de nit']\n"
     ]
    }
   ],
   "source": [
    "\n",
    "inventari = [\"llit individual\", \"llit individual\", \"capçal\", \"llit de matrimoni\", \"llit de matrimoni\", \"llit individual\", \"taula\", \"taula\", \"taula de nit\", \"taula de nit\" , \"llit de matrimoni\", \"llit de matrimoni\", \"llit individual\", \"llit individual\", \"llençols\", \"llençols\", \"coixí\", \"coixí\"]\n",
    "\n",
    "#Nombre de items del nostre inventari\n",
    "\n",
    "inventari_len = len(inventari)\n",
    "print(inventari_len)\n",
    "\n",
    "#Primer item de la llista\n",
    "first = inventari[0]\n",
    "print(first)\n",
    "\n",
    "#Últim item de la llista\n",
    "last = inventari[-1]\n",
    "print(last)\n",
    "\n",
    "#Slicing: desde index 2 a index 6 no inclòs\n",
    "inventari_2_6=inventari[2:6]\n",
    "print(inventari_2_6)\n",
    "\n",
    "#Selecció dels 3 primers items\n",
    "first_3 = inventari[0:3]\n",
    "print(first_3)\n",
    "\n",
    "#Comptem en nombre de vegades que apareix \"llit individual\" a la llista\n",
    "llit_individual = inventari.count(\"llit individual\")\n",
    "print(llit_individual)\n",
    "\n",
    "#Eliminem el 5è element de la llista i guardem la nova llista en unan variable\n",
    "removed_item=inventari.pop(4)\n",
    "print(removed_item)\n",
    "\n",
    "#Afegim un element a la llista en la onzena posició\n",
    "inventari.insert(10,\"mirall\")\n",
    "print(inventari)\n",
    "\n",
    "#Orden l'inventari alfabèticament\n",
    "inventari=sorted(inventari)\n",
    "print(inventari)\n",
    "\n"
   ]
  },
  {
   "cell_type": "markdown",
   "id": "e56239c3",
   "metadata": {},
   "source": [
    "**Fi del primer Sprint!**"
   ]
  },
  {
   "cell_type": "code",
   "execution_count": null,
   "id": "e4b03ac6",
   "metadata": {},
   "outputs": [],
   "source": []
  }
 ],
 "metadata": {
  "kernelspec": {
   "display_name": "Python 3 (ipykernel)",
   "language": "python",
   "name": "python3"
  },
  "language_info": {
   "codemirror_mode": {
    "name": "ipython",
    "version": 3
   },
   "file_extension": ".py",
   "mimetype": "text/x-python",
   "name": "python",
   "nbconvert_exporter": "python",
   "pygments_lexer": "ipython3",
   "version": "3.9.7"
  }
 },
 "nbformat": 4,
 "nbformat_minor": 5
}
